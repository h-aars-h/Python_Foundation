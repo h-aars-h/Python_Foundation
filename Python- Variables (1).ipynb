{
 "cells": [
  {
   "cell_type": "markdown",
   "id": "0fe389e3-297d-4d78-a54c-4be00576e376",
   "metadata": {},
   "source": [
    "Python- Variables"
   ]
  },
  {
   "cell_type": "code",
   "execution_count": 1,
   "id": "5f7e5749-c47a-49ee-b6cf-96a34092bf64",
   "metadata": {},
   "outputs": [],
   "source": [
    "# Q1. Write all the conventions being followed while declaring a variable."
   ]
  },
  {
   "cell_type": "code",
   "execution_count": 2,
   "id": "44448f53-ea62-4d40-8ab6-28e6a9aa2f05",
   "metadata": {},
   "outputs": [
    {
     "data": {
      "text/plain": [
       "('Harsh', 24)"
      ]
     },
     "execution_count": 2,
     "metadata": {},
     "output_type": "execute_result"
    }
   ],
   "source": [
    "# Ans : When we storing a value into varibale this any type just like string and int float and many more. \n",
    "# Example :\n",
    "a=\"Harsh\"  # this string value store like this  \n",
    "b = 24 # this Intager value store like this\n",
    "a,b "
   ]
  },
  {
   "cell_type": "code",
   "execution_count": 3,
   "id": "bd3bfd4e-f6d9-45aa-8cb0-b616a32ba2f3",
   "metadata": {},
   "outputs": [],
   "source": [
    "# Q2. What will happen if we declare a restricted keyword as a variable?"
   ]
  },
  {
   "cell_type": "code",
   "execution_count": 4,
   "id": "aca7e269-6c27-47e3-b959-17e39b018b4c",
   "metadata": {},
   "outputs": [],
   "source": [
    "# Ans if we declare a restricted keyword as a variable its comes error and syntax error beacause here is reserved keywords in python \n",
    "# language"
   ]
  },
  {
   "cell_type": "code",
   "execution_count": 5,
   "id": "32b16911-0c32-481d-922c-e831ab7680ed",
   "metadata": {},
   "outputs": [],
   "source": [
    "# Q3. Can we actually declare a string as a variable name?"
   ]
  },
  {
   "cell_type": "code",
   "execution_count": 6,
   "id": "2cb3bd46-0c0c-44cf-8de5-dac26a11895e",
   "metadata": {},
   "outputs": [],
   "source": [
    "# Ans : Yes "
   ]
  },
  {
   "cell_type": "code",
   "execution_count": 7,
   "id": "0a841249-37e1-4d51-9d88-73ddefc11eeb",
   "metadata": {},
   "outputs": [],
   "source": [
    "# Q4. Is it possible for us to declare “_” as a variable? If so, then write an example of it."
   ]
  },
  {
   "cell_type": "code",
   "execution_count": 9,
   "id": "3761414a-03ea-456d-9e71-5601379b5cdd",
   "metadata": {},
   "outputs": [
    {
     "data": {
      "text/plain": [
       "'Harsh'"
      ]
     },
     "execution_count": 9,
     "metadata": {},
     "output_type": "execute_result"
    }
   ],
   "source": [
    "# Ans : Yes it is possible \n",
    "harsh = 'Harsh'\n",
    "harsh"
   ]
  },
  {
   "cell_type": "code",
   "execution_count": 15,
   "id": "8409a1ab-72a6-468b-badb-1c99f6e29771",
   "metadata": {},
   "outputs": [
    {
     "data": {
      "text/plain": [
       "1"
      ]
     },
     "execution_count": 15,
     "metadata": {},
     "output_type": "execute_result"
    }
   ],
   "source": [
    "# Q5. Using an example, explain how the variables in python are dynamic in nature.\n",
    "# Ans\n",
    "x = 1 #here we storing in is 1 \n",
    "x"
   ]
  },
  {
   "cell_type": "code",
   "execution_count": 17,
   "id": "d3608a4c-9aaf-474b-85ec-b8f2a0bd4e7f",
   "metadata": {},
   "outputs": [
    {
     "data": {
      "text/plain": [
       "'harsh'"
      ]
     },
     "execution_count": 17,
     "metadata": {},
     "output_type": "execute_result"
    }
   ],
   "source": [
    "# Now we stroing in string value \n",
    "x=\"harsh\"\n",
    "x"
   ]
  },
  {
   "cell_type": "code",
   "execution_count": null,
   "id": "7e332aa9-8d61-49ee-a6a8-4cea4277dbb6",
   "metadata": {},
   "outputs": [],
   "source": []
  },
  {
   "cell_type": "code",
   "execution_count": null,
   "id": "b65e274e-7df0-4e10-ad66-1c497268adb5",
   "metadata": {},
   "outputs": [],
   "source": [
    "fdsfsd"
   ]
  },
  {
   "cell_type": "code",
   "execution_count": null,
   "id": "66856155-a6e8-498f-a268-96d02f6025cd",
   "metadata": {},
   "outputs": [],
   "source": []
  }
 ],
 "metadata": {
  "kernelspec": {
   "display_name": "Python 3 (ipykernel)",
   "language": "python",
   "name": "python3"
  },
  "language_info": {
   "codemirror_mode": {
    "name": "ipython",
    "version": 3
   },
   "file_extension": ".py",
   "mimetype": "text/x-python",
   "name": "python",
   "nbconvert_exporter": "python",
   "pygments_lexer": "ipython3",
   "version": "3.10.8"
  }
 },
 "nbformat": 4,
 "nbformat_minor": 5
}

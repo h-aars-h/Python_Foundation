{
 "cells": [
  {
   "cell_type": "code",
   "execution_count": 1,
   "id": "52dc2910-2aa0-46e1-b38a-f1faf3710763",
   "metadata": {},
   "outputs": [],
   "source": [
    "# Q1. Create an empty list."
   ]
  },
  {
   "cell_type": "code",
   "execution_count": 2,
   "id": "94c57eb9-4126-4135-88dd-fa2fea4a2ac3",
   "metadata": {},
   "outputs": [],
   "source": [
    "x=[]\n"
   ]
  },
  {
   "cell_type": "code",
   "execution_count": 3,
   "id": "f4193569-3ca0-4428-93d8-9b4c188e4db3",
   "metadata": {},
   "outputs": [
    {
     "data": {
      "text/plain": [
       "[1, 2, 3, 4, 5]"
      ]
     },
     "execution_count": 3,
     "metadata": {},
     "output_type": "execute_result"
    }
   ],
   "source": [
    "# Q2. Create a list and add an element to the end of this list.\n",
    "x=[1,2,3,4]\n",
    "x.append(5)\n",
    "x"
   ]
  },
  {
   "cell_type": "code",
   "execution_count": 4,
   "id": "5749181f-392b-4966-b15d-7ff1882f730e",
   "metadata": {},
   "outputs": [
    {
     "data": {
      "text/plain": [
       "5"
      ]
     },
     "execution_count": 4,
     "metadata": {},
     "output_type": "execute_result"
    }
   ],
   "source": [
    "# Q3. For the above created list print the last element.\n",
    "# Ans :?\n",
    "x[4]"
   ]
  },
  {
   "cell_type": "code",
   "execution_count": 5,
   "id": "e6184c4d-cbc9-46c7-84f1-8ac62769d1f5",
   "metadata": {},
   "outputs": [],
   "source": [
    "# Q4. Reverse the above created list."
   ]
  },
  {
   "cell_type": "code",
   "execution_count": 6,
   "id": "e48749f9-fbd0-4612-a5f5-5e2b001ffb6e",
   "metadata": {},
   "outputs": [
    {
     "data": {
      "text/plain": [
       "[5, 4, 3, 2, 1]"
      ]
     },
     "execution_count": 6,
     "metadata": {},
     "output_type": "execute_result"
    }
   ],
   "source": [
    "x.reverse()\n",
    "x"
   ]
  },
  {
   "cell_type": "code",
   "execution_count": 7,
   "id": "14b7318f-fad5-4829-8cf6-e1c5f3ed8599",
   "metadata": {},
   "outputs": [],
   "source": [
    "# Q5. Sort the above created list."
   ]
  },
  {
   "cell_type": "code",
   "execution_count": 8,
   "id": "9c7ec43f-68fa-4caf-8e74-dda88db559b7",
   "metadata": {},
   "outputs": [
    {
     "data": {
      "text/plain": [
       "[1, 2, 3, 4, 5]"
      ]
     },
     "execution_count": 8,
     "metadata": {},
     "output_type": "execute_result"
    }
   ],
   "source": [
    "x.sort()\n",
    "x"
   ]
  },
  {
   "cell_type": "code",
   "execution_count": 12,
   "id": "40b088b9-cb86-44f0-9ef8-18d4459f8b28",
   "metadata": {},
   "outputs": [
    {
     "data": {
      "text/plain": [
       "'Dhadak'"
      ]
     },
     "execution_count": 12,
     "metadata": {},
     "output_type": "execute_result"
    }
   ],
   "source": [
    "# Q6. Create a list of your top three favorite movies, then print the second movie title.\n",
    "# Ans \n",
    "Moives=[\"Animal\",\"Dhadak\",\"Fighter\"]\n",
    "Moives[1]"
   ]
  },
  {
   "cell_type": "code",
   "execution_count": 13,
   "id": "b9ec63de-fd1d-44af-b272-b32e127bf982",
   "metadata": {},
   "outputs": [],
   "source": [
    "# Q7. Create a list of your favorite animals, then add a new animal to the list and print the updated list."
   ]
  },
  {
   "cell_type": "code",
   "execution_count": 15,
   "id": "08b7b7db-135b-4893-b90f-48ba6fda90f9",
   "metadata": {},
   "outputs": [
    {
     "data": {
      "text/plain": [
       "['cow', 'dog']"
      ]
     },
     "execution_count": 15,
     "metadata": {},
     "output_type": "execute_result"
    }
   ],
   "source": [
    "# Ans\n",
    "animal_list=[\"cow\",\"dog\"]\n",
    "animal_list"
   ]
  },
  {
   "cell_type": "code",
   "execution_count": 16,
   "id": "daa7cf9e-cacb-4ca0-96c2-ec5435cd398f",
   "metadata": {},
   "outputs": [],
   "source": [
    "animal_list.append('cat')"
   ]
  },
  {
   "cell_type": "code",
   "execution_count": 17,
   "id": "4a6ab432-cb46-4309-8774-7895bb7fb0cb",
   "metadata": {},
   "outputs": [
    {
     "data": {
      "text/plain": [
       "['cow', 'dog', 'cat']"
      ]
     },
     "execution_count": 17,
     "metadata": {},
     "output_type": "execute_result"
    }
   ],
   "source": [
    "animal_list"
   ]
  },
  {
   "cell_type": "code",
   "execution_count": 21,
   "id": "00957065-3abb-4263-bb88-93b8c2d32b88",
   "metadata": {},
   "outputs": [
    {
     "data": {
      "text/plain": [
       "3"
      ]
     },
     "execution_count": 21,
     "metadata": {},
     "output_type": "execute_result"
    }
   ],
   "source": [
    "# Q8. Create a list of your favorite cities, then use the index() method to find the position of a specific city\n",
    "# # on the list and print it.\n",
    "cities=[\"Kanpur\",\"Delhi\",\"Gurgram\"]\n",
    "len(cities)"
   ]
  },
  {
   "cell_type": "code",
   "execution_count": 24,
   "id": "6ec61682-f414-4312-928b-874d420135a2",
   "metadata": {},
   "outputs": [
    {
     "data": {
      "text/plain": [
       "'Delhi'"
      ]
     },
     "execution_count": 24,
     "metadata": {},
     "output_type": "execute_result"
    }
   ],
   "source": [
    "cities[1]"
   ]
  },
  {
   "cell_type": "code",
   "execution_count": null,
   "id": "d4b1b0f2-0a56-4d02-8491-5b3ff49542b7",
   "metadata": {},
   "outputs": [],
   "source": []
  }
 ],
 "metadata": {
  "kernelspec": {
   "display_name": "Python 3 (ipykernel)",
   "language": "python",
   "name": "python3"
  },
  "language_info": {
   "codemirror_mode": {
    "name": "ipython",
    "version": 3
   },
   "file_extension": ".py",
   "mimetype": "text/x-python",
   "name": "python",
   "nbconvert_exporter": "python",
   "pygments_lexer": "ipython3",
   "version": "3.10.8"
  }
 },
 "nbformat": 4,
 "nbformat_minor": 5
}
